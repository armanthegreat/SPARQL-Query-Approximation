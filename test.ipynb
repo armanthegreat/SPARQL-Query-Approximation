{
 "cells": [
  {
   "attachments": {},
   "cell_type": "markdown",
   "metadata": {},
   "source": [
    "## The parser class ##"
   ]
  },
  {
   "cell_type": "code",
   "execution_count": 84,
   "metadata": {},
   "outputs": [
    {
     "data": {
      "text/plain": [
       "'SELECT ?place'"
      ]
     },
     "execution_count": 84,
     "metadata": {},
     "output_type": "execute_result"
    }
   ],
   "source": [
    "\n",
    "\n",
    "from typing import Any\n",
    "from SPARQL_parser import SPARQL\n",
    "from SPARQLWrapper import SPARQLWrapper, JSON\n",
    "\n",
    "\n",
    "list_of_prefix = \"\"\"\n",
    "PREFIX prop: <http://dbpedia.org/property/>\n",
    "PREFIX owl: <http://www.w3.org/2002/07/owl#>\n",
    "PREFIX dbp: <http://dbpedia.org/resource/>\n",
    "PREFIX dct: <http://purl.org/dc/terms/>\n",
    "PREFIX res: <http://dbpedia.org/resource/>\n",
    "PREFIX dbo: <http://dbpedia.org/ontology/>\n",
    "PREFIX skos: <http://www.w3.org/2004/02/skos/core#>\n",
    "PREFIX db: <http://dbpedia.org/>\n",
    "PREFIX yago: <http://dbpedia.org/class/yago/>\n",
    "PREFIX onto: <http://dbpedia.org/ontology/>\n",
    "PREFIX rdfs: <http://www.w3.org/2000/01/rdf-schema#>\n",
    "PREFIX foaf: <http://xmlns.com/foaf/0.1/>\n",
    "PREFIX dbr: <http://dbpedia.org/resource/>\n",
    "PREFIX dbc: <http://dbpedia.org/resource/Category:>\n",
    "PREFIX dbpedia2: <http://dbpedia.org/property/>\n",
    "\"\"\"\n",
    "\n",
    "# will change it to be received from the user\n",
    "input_query = \"\"\"\n",
    "SELECT ?place\n",
    "WHERE {\n",
    "   dbr:Albert_Einstein dbo:birthPlace ?place .\n",
    "}\n",
    "\"\"\"\n",
    "\n",
    "\n",
    "parsed_query = SPARQL(input_query)\n",
    "\n",
    "\n",
    "# class execution order:\n",
    "#     def __init__(self, query):\n",
    "\n",
    "\n",
    "\n",
    "\n",
    "class Triple:  # chaneg name\n",
    "    def __init__(self, sub, pre, obj):\n",
    "        self.sub = sub\n",
    "        self.pre = pre\n",
    "        self.obj = obj\n",
    "\n",
    "    def get_subject(self):\n",
    "\n",
    "        return self.sub\n",
    "\n",
    "    def get_predicate(self):\n",
    "        return self.pre\n",
    "\n",
    "    def get_object(self):\n",
    "        return self.obj\n",
    "\n",
    "\n",
    "triples_to_query = []\n",
    "\n",
    "for s in parsed_query.triple_list:\n",
    "    triples_to_query.append(\n",
    "        Triple(s.split(' ')[0], s.split(' ')[1], s.split(' ')[2]))\n",
    "\n",
    "\n",
    "# full_query = get_query()\n",
    "\n",
    "# my_query(full_query)\n",
    "\n",
    "# triples_to_query[0].get_approx()[0].get_subject()\n",
    "\n",
    "\n",
    "# for t in triples_to_query:\n",
    "    # print(\"sub \" + t.get_subject())\n",
    "    # print(\"pre \" + t.get_predicate())\n",
    "    # print(\"obj \" + t.get_object())\n",
    "# \n",
    "parsed_query.former\n"
   ]
  },
  {
   "attachments": {},
   "cell_type": "markdown",
   "metadata": {},
   "source": [
    "## The approx function call "
   ]
  },
  {
   "cell_type": "code",
   "execution_count": 85,
   "metadata": {},
   "outputs": [
    {
     "name": "stdout",
     "output_type": "stream",
     "text": [
      "key = 0\n",
      "<http://dbpedia.org/resource/Albert_Einstein> <http://dbpedia.org/ontology/birthPlace> ?place\n",
      "-----------------------\n",
      "key = 1\n",
      "<http://dbpedia.org/resource/Albert_Einstein> ?p1 ?o1\n",
      "?o1 <http://dbpedia.org/ontology/birthPlace> ?place\n",
      "-----------------------\n",
      "<http://dbpedia.org/resource/Albert_Einstein> <http://dbpedia.org/ontology/birthPlace> ?o1\n",
      "?o1 ?p1 ?place\n",
      "-----------------------\n",
      "<http://dbpedia.org/resource/Albert_Einstein> ?p1 ?place\n",
      "-----------------------\n",
      "key = 2\n",
      "<http://dbpedia.org/resource/Albert_Einstein> ?p2 ?o2\n",
      "?o2 ?p1 ?o1\n",
      "?o1 <http://dbpedia.org/ontology/birthPlace> ?place\n",
      "-----------------------\n",
      "<http://dbpedia.org/resource/Albert_Einstein> ?p1 ?o1\n",
      "?o1 <http://dbpedia.org/ontology/birthPlace> ?o2\n",
      "?o2 ?p2 ?place\n",
      "-----------------------\n",
      "<http://dbpedia.org/resource/Albert_Einstein> ?p1 ?o1\n",
      "?o1 ?p2 ?place\n",
      "-----------------------\n",
      "<http://dbpedia.org/resource/Albert_Einstein> ?p2 ?o2\n",
      "?o2 <http://dbpedia.org/ontology/birthPlace> ?o1\n",
      "?o1 ?p1 ?place\n",
      "-----------------------\n",
      "<http://dbpedia.org/resource/Albert_Einstein> ?p2 ?o1\n",
      "?o1 ?p1 ?place\n",
      "-----------------------\n",
      "<http://dbpedia.org/resource/Albert_Einstein> <http://dbpedia.org/ontology/birthPlace> ?o1\n",
      "?o1 ?p1 ?o2\n",
      "?o2 ?p2 ?place\n",
      "-----------------------\n",
      "<http://dbpedia.org/resource/Albert_Einstein> ?p2 ?o2\n",
      "?o2 ?p1 ?place\n",
      "-----------------------\n",
      "<http://dbpedia.org/resource/Albert_Einstein> ?p1 ?o2\n",
      "?o2 ?p2 ?place\n",
      "-----------------------\n"
     ]
    }
   ],
   "source": [
    "\n",
    "\n",
    "\n",
    "\n",
    "#  Goes to the dictionary and creates a new index which is the cost and calls the approx queries to calculate the values in that cost \n",
    "def approx(cost):\n",
    "    for a in range (cost+1):\n",
    "        approx_queries[str(a)] = get_approx(a)\n",
    "\n",
    "\n",
    "#  this gets the index(cost) and returns a whole list of triples list for that cost \n",
    "# the output is the final list\n",
    "def get_approx(a):\n",
    "    if a == 0:\n",
    "        value = []\n",
    "        value.append(triples_to_query[0])\n",
    "        return [value]\n",
    "    else:\n",
    "        pre_approx = approx_queries[str(a-1)] # here we get the list of triples list belonging to the previous query\n",
    "        total_approx = []\n",
    "        for triple in pre_approx: # here we iterate over the list of triples list\n",
    "            new_approx =  calculate(triple, a) # here creating the temp list of triples by calling the calculate function(A single list of triples , cost)\n",
    "            total_approx += new_approx # here we append the list belonging to the previous query to the total list\n",
    "        return total_approx \n",
    "\n",
    "approx_queries = dict()\n",
    "approx(2)\n",
    "\n",
    "\n",
    "\n",
    "for key in approx_queries.keys():\n",
    "    print (f\"key = {key}\")\n",
    "    for b in approx_queries[str(key)]: \n",
    "        # print(len(b))  # b is  a list of triples\n",
    "        for c in b: # c is a list triple\n",
    "            print((str(c.get_subject()) + \" \" + str(c.get_predicate()) + \" \" + str(c.get_object())))\n",
    "        print (\"-----------------------\")\n",
    "       \n"
   ]
  },
  {
   "attachments": {},
   "cell_type": "markdown",
   "metadata": {},
   "source": [
    "## calculation the approx "
   ]
  },
  {
   "cell_type": "code",
   "execution_count": 61,
   "metadata": {},
   "outputs": [],
   "source": [
    "from collections import deque\n",
    "\n",
    "def calculate(triples,cost):\n",
    "    values = []\n",
    "    for triple in triples:\n",
    "        if(triple.get_subject() == triples_to_query[0].get_subject()):\n",
    "            values.append(left_insertion(triples, cost))\n",
    "        if(triple.get_object() == triples_to_query[0].get_object()):\n",
    "             values.append(right_insertion(triples, cost))\n",
    "        if(triple.get_predicate() == triples_to_query[0].get_predicate()): \n",
    "            index = triples.index(triple)\n",
    "            values.append(sub(triples, cost, index))\n",
    "    return values\n",
    "    \n",
    "\n",
    "def left_insertion(triple,cost):\n",
    "    deque_of_approx = deque(triple[:])\n",
    "    deque_of_approx.appendleft(Triple(deque_of_approx[0].get_subject(),f\"?p{cost}\",f\"?o{cost}\"))\n",
    "    deque_of_approx[1] = Triple(f\"?o{cost}\",deque_of_approx[1].get_predicate(),deque_of_approx[1].get_object())\n",
    "    return list(deque_of_approx)\n",
    "\n",
    "def right_insertion(triple,cost):\n",
    "    list_of_approx = triple[:]\n",
    "    list_of_approx.append(Triple(f\"?o{cost}\",f\"?p{cost}\",list_of_approx[-1].get_object()))\n",
    "    list_of_approx[-2] = Triple(list_of_approx[-2].get_subject(),list_of_approx[-2].get_predicate(),f\"?o{cost}\")\n",
    "    return list_of_approx\n",
    "\n",
    "def sub(triples,cost,index):\n",
    "    list_of_approx = triples[:]\n",
    "    list_of_approx[index] = (Triple(triples[index].get_subject(),f\"?p{cost}\",triples[index].get_object()))\n",
    "    return list_of_approx\n",
    "\n",
    "\n",
    "\n",
    "\n",
    "\n",
    "\n",
    "# x = left_insertion([Triple(\"albert\",\"birth\",\"?o1\"),Triple(\"?o1\",\"?p1\",\"?place\")],1)\n",
    "# y = right_insertion(x,2)\n",
    "# z = sub\n",
    "\n",
    "# for triple in y:\n",
    "#     print(triple.get_subject())\n",
    "#     print(triple.get_predicate())\n",
    "#     print(triple.get_object())\n",
    "#     print(\"*************\")\n",
    "        "
   ]
  },
  {
   "attachments": {},
   "cell_type": "markdown",
   "metadata": {},
   "source": [
    "## The query builder ##\n",
    "    "
   ]
  },
  {
   "cell_type": "code",
   "execution_count": 76,
   "metadata": {},
   "outputs": [
    {
     "data": {
      "text/plain": [
       "'SELECT  lace'"
      ]
     },
     "execution_count": 76,
     "metadata": {},
     "output_type": "execute_result"
    }
   ],
   "source": [
    "\n",
    "def get_query():\n",
    "    cost = 0\n",
    "    variables = parsed_query.former_template.strip(parsed_query.intent) + \" \"\n",
    "    sparql_query = f\"{parsed_query.former} where {{\\n\"\n",
    "    for triple in triples_to_query[0].get_approx():\n",
    "        sparql_query += f\"    {triple.get_subject()} {triple.get_predicate()} {triple.get_object()} .\\n\"\n",
    "    sparql_query += \"}\\n LIMIT 20\"\n",
    "\n",
    "\n",
    "    return list_of_prefix + sparql_query\n",
    "\n",
    "\n",
    "# print(get_query())\n",
    "\n",
    "parsed_query.former\n",
    "\n",
    "# for t in triples_to_query:\n",
    "#     print(\"sub \" + t.get_subject())\n",
    "#     print(\"pre \" + t.get_predicate())\n",
    "#     print(\"obj \" + t.get_object())\n",
    "#     print('------------------')\n",
    "\n",
    "# get_query()"
   ]
  },
  {
   "attachments": {},
   "cell_type": "markdown",
   "metadata": {},
   "source": [
    "## The endpoint ## "
   ]
  },
  {
   "cell_type": "code",
   "execution_count": 4,
   "metadata": {},
   "outputs": [],
   "source": [
    "\n",
    "def my_query(query_to_execute): \n",
    "    sparql = SPARQLWrapper(\"https://api.triplydb.com/datasets/DBpedia-association/dbpedia/services/dbpedia/sparql\")\n",
    "    sparql.setQuery(query_to_execute)\n",
    "    sparql.setReturnFormat(JSON)\n",
    "    results = sparql.query().convert()  \n",
    "    \n",
    "    index = results['head']['vars']\n",
    "    \n",
    "    result_list = []\n",
    "    ind_reslut = []\n",
    "    \n",
    "    \n",
    "    for y in index:\n",
    "        for x1 in results['results']['bindings']:\n",
    "            ind_reslut.append(x1[y]['value'])\n",
    "        result_list.append(ind_reslut)\n",
    "        ind_reslut = []\n",
    "        \n",
    "    wr_my_list(result_list)\n",
    "\n"
   ]
  },
  {
   "attachments": {},
   "cell_type": "markdown",
   "metadata": {},
   "source": [
    "## The returned result ##"
   ]
  },
  {
   "cell_type": "code",
   "execution_count": 5,
   "metadata": {},
   "outputs": [],
   "source": [
    "\n",
    "def execute_query(query_to_execute): \n",
    "    sparql = SPARQLWrapper(\"https://api.triplydb.com/datasets/DBpedia-association/dbpedia/services/dbpedia/sparql\")\n",
    "    sparql.setQuery(query_to_execute)\n",
    "    sparql.setReturnFormat(JSON)\n",
    "    results = sparql.query().convert()  \n",
    "\n",
    "    index = results['head']['vars']\n",
    "\n",
    "    result_list = []\n",
    "    ind_reslut = []\n",
    "\n",
    "\n",
    "    for y in index:\n",
    "        for x in results['results']['bindings']:\n",
    "            ind_reslut.append(x[y]['value'])\n",
    "        result_list.append(ind_reslut)\n",
    "        ind_reslut = []\n",
    "\n",
    "    print(result_list)\n",
    "\n",
    "\n"
   ]
  },
  {
   "attachments": {},
   "cell_type": "markdown",
   "metadata": {},
   "source": [
    "\n",
    "\n",
    "## Node forward (Left Insertion) \n"
   ]
  },
  {
   "attachments": {},
   "cell_type": "markdown",
   "metadata": {},
   "source": [
    "\n",
    "\n",
    "## Node Backward (Right Insertion) \n"
   ]
  },
  {
   "attachments": {},
   "cell_type": "markdown",
   "metadata": {},
   "source": [
    "## Substitution ##"
   ]
  },
  {
   "attachments": {},
   "cell_type": "markdown",
   "metadata": {},
   "source": [
    "## Printer of the list ##"
   ]
  },
  {
   "cell_type": "code",
   "execution_count": null,
   "metadata": {},
   "outputs": [],
   "source": [
    "# def print_my_list(l1list):\n",
    "#     for l1 in zip(l1list):\n",
    "#         for l2 in l1:\n",
    "#             print(l2)\n",
    "#         print()\n",
    "#         # print(l1,l2)\n",
    "#         print('------------------')"
   ]
  },
  {
   "cell_type": "code",
   "execution_count": 13,
   "metadata": {},
   "outputs": [],
   "source": [
    "def wr_my_list(l1list):\n",
    "    file_path = 'test.txt'\n",
    "    with open(file_path, 'w') as file:\n",
    "        \n",
    "        for l1 in zip(*l1list):\n",
    "            for l2 in l1:\n",
    "                file.write(str(l2) + \"   \" )\n",
    "            file.write('\\n ------------------ \\n')\n"
   ]
  },
  {
   "attachments": {},
   "cell_type": "markdown",
   "metadata": {},
   "source": [
    "## -------------------------------------------------------------------------------------------------------------------------------------- ##"
   ]
  },
  {
   "attachments": {},
   "cell_type": "markdown",
   "metadata": {},
   "source": [
    "## question ##\n",
    " 1. every estimation we create two new variables , what do we do with them so if we start with og we keep going ?\n",
    " 2. should the returned value from the approx be subed in the variables and only have one set of variables ?\n",
    "  2. Like if we get 10 values from a sub should we place them in the estimation and then query a node forward/back/sub for each ?"
   ]
  },
  {
   "cell_type": "code",
   "execution_count": null,
   "metadata": {},
   "outputs": [
    {
     "name": "stdout",
     "output_type": "stream",
     "text": [
      "dict_keys(['head', 'results'])\n",
      "False\n"
     ]
    }
   ],
   "source": [
    "def answer_convert(item_answer):\n",
    "    if 'boolean' in item_answer.keys():\n",
    "        at = 'boolean'\n",
    "    else:\n",
    "        at = item_answer['head']['vars'][0]\n",
    "    answer = []\n",
    "    if at == 'boolean':\n",
    "        answer.append(item_answer['boolean'])\n",
    "    else:\n",
    "        for cand in item_answer['results']['bindings']:\n",
    "            if at == 'date':\n",
    "                answer.append(cand['date']['value'])\n",
    "            elif at == 'number':\n",
    "                answer.append(cand['c']['value'])\n",
    "            elif at == 'resource' or at == 'uri':\n",
    "                answer.append(cand['uri']['value'])\n",
    "            elif at == 'string':\n",
    "                answer.append(cand['string']['value'])\n",
    "            elif at == 'callret-0':\n",
    "                answer.append(cand['callret-0']['value'])\n",
    "            else: \n",
    "                answer.append(cand[at]['value'])\n",
    "    return answer\n",
    "\n",
    "\n",
    "sparql = SPARQLWrapper(\n",
    "    \"https://api.triplydb.com/datasets/academy/pokemon/services/pokemon/sparql\")\n",
    "sparql.setQuery(sparql_query)\n",
    "sparql.setReturnFormat(JSON)\n",
    "results = sparql.query().convert()  \n",
    "answer = answer_convert(results)\n",
    "\n",
    "type(results.items())\n",
    "\n",
    "print(results.keys())\n",
    "print('boolean' in results.keys())\n"
   ]
  },
  {
   "attachments": {},
   "cell_type": "markdown",
   "metadata": {},
   "source": [
    "## checking a insertion "
   ]
  },
  {
   "cell_type": "code",
   "execution_count": null,
   "metadata": {},
   "outputs": [],
   "source": [
    "def right_insertion(triple,cost):\n",
    "\n",
    "    list_of_approx = triple[:]\n",
    "    list_of_approx.append(Triple(f\"?o{cost}\",f\"?p{cost}\",list_of_approx[-1].get_object()))\n",
    "    list_of_approx[-2] = Triple(list_of_approx[-2].get_subject(),list_of_approx[-2].get_predicate(),f\"?o{cost}\")\n",
    "    return list_of_approx\n",
    "\n",
    "\n",
    "value = []\n",
    "value.append(triples_to_query[0])\n",
    "\n",
    "\n",
    "for x in range (3):\n",
    "    value = right_insertion(value,x)\n",
    "\n",
    "\n",
    "for i in value: \n",
    "    print(i.get_subject(),i.get_predicate(),i.get_object())"
   ]
  },
  {
   "cell_type": "code",
   "execution_count": 11,
   "metadata": {},
   "outputs": [
    {
     "name": "stdout",
     "output_type": "stream",
     "text": [
      "sub <http://dbpedia.org/resource/Albert_Einstein>\n",
      "pre <http://dbpedia.org/ontology/birthPlace>\n",
      "obj ?o1\n",
      "sub ?o1\n",
      "pre ?p1\n",
      "obj ?o1\n",
      "sub ?o1\n",
      "pre <http://dbpedia.org/ontology/birthPlace>\n",
      "obj ?place\n",
      "------------------\n"
     ]
    }
   ],
   "source": [
    "left_insertion(1)\n",
    "for t in triples_to_query[0].get_approx():\n",
    "    print(\"sub \" + t.get_subject())\n",
    "    print(\"pre \" + t.get_predicate())\n",
    "    print(\"obj \" + t.get_object())\n",
    "print('------------------')"
   ]
  }
 ],
 "metadata": {
  "kernelspec": {
   "display_name": "Python 3",
   "language": "python",
   "name": "python3"
  },
  "language_info": {
   "codemirror_mode": {
    "name": "ipython",
    "version": 3
   },
   "file_extension": ".py",
   "mimetype": "text/x-python",
   "name": "python",
   "nbconvert_exporter": "python",
   "pygments_lexer": "ipython3",
   "version": "3.8.10"
  },
  "orig_nbformat": 4,
  "vscode": {
   "interpreter": {
    "hash": "916dbcbb3f70747c44a77c7bcd40155683ae19c65e1c03b4aa3499c5328201f1"
   }
  }
 },
 "nbformat": 4,
 "nbformat_minor": 2
}
