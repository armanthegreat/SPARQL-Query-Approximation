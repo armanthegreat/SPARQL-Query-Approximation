{
 "cells": [
  {
   "attachments": {},
   "cell_type": "markdown",
   "metadata": {},
   "source": [
    "## The parser class ##"
   ]
  },
  {
   "cell_type": "code",
   "execution_count": 272,
   "metadata": {},
   "outputs": [
    {
     "name": "stdout",
     "output_type": "stream",
     "text": [
      "\n",
      "PREFIX prop: <http://dbpedia.org/property/>\n",
      "PREFIX owl: <http://www.w3.org/2002/07/owl#>\n",
      "PREFIX dbp: <http://dbpedia.org/resource/>\n",
      "PREFIX dct: <http://purl.org/dc/terms/>\n",
      "PREFIX res: <http://dbpedia.org/resource/>\n",
      "PREFIX dbo: <http://dbpedia.org/ontology/>\n",
      "PREFIX skos: <http://www.w3.org/2004/02/skos/core#>\n",
      "PREFIX db: <http://dbpedia.org/>\n",
      "PREFIX yago: <http://dbpedia.org/class/yago/>\n",
      "PREFIX onto: <http://dbpedia.org/ontology/>\n",
      "PREFIX rdfs: <http://www.w3.org/2000/01/rdf-schema#>\n",
      "PREFIX foaf: <http://xmlns.com/foaf/0.1/>\n",
      "PREFIX dbr: <http://dbpedia.org/resource/>\n",
      "PREFIX dbc: <http://dbpedia.org/resource/Category:>\n",
      "PREFIX dbpedia2: <http://dbpedia.org/property/>\n",
      "SELECT ?p ?x ?o?xx ?oo?xxx ?ooo?xxxx ?oooo where {\n",
      "    <http://dbpedia.org/resource/Albert_Einstein> ?p <http://dbpedia.org/resource/German_Empire> .\n",
      "    <http://dbpedia.org/resource/German_Empire> ?x ?o .\n",
      "    ?o ?xx ?oo .\n",
      "    ?oo ?xxx ?ooo .\n",
      "    ?ooo ?xxxx ?oooo .\n",
      "}\n",
      " LIMIT 20\n"
     ]
    }
   ],
   "source": [
    "\n",
    "\n",
    "from typing import Any\n",
    "from SPARQL_parser import SPARQL\n",
    "from SPARQLWrapper import SPARQLWrapper, JSON\n",
    "\n",
    "\n",
    "list_of_prefix = \"\"\"\n",
    "PREFIX prop: <http://dbpedia.org/property/>\n",
    "PREFIX owl: <http://www.w3.org/2002/07/owl#>\n",
    "PREFIX dbp: <http://dbpedia.org/resource/>\n",
    "PREFIX dct: <http://purl.org/dc/terms/>\n",
    "PREFIX res: <http://dbpedia.org/resource/>\n",
    "PREFIX dbo: <http://dbpedia.org/ontology/>\n",
    "PREFIX skos: <http://www.w3.org/2004/02/skos/core#>\n",
    "PREFIX db: <http://dbpedia.org/>\n",
    "PREFIX yago: <http://dbpedia.org/class/yago/>\n",
    "PREFIX onto: <http://dbpedia.org/ontology/>\n",
    "PREFIX rdfs: <http://www.w3.org/2000/01/rdf-schema#>\n",
    "PREFIX foaf: <http://xmlns.com/foaf/0.1/>\n",
    "PREFIX dbr: <http://dbpedia.org/resource/>\n",
    "PREFIX dbc: <http://dbpedia.org/resource/Category:>\n",
    "PREFIX dbpedia2: <http://dbpedia.org/property/>\n",
    "\"\"\"\n",
    "\n",
    "\n",
    "input_query = \"\"\"\n",
    "SELECT ?p\n",
    "WHERE {\n",
    "   dbr:Albert_Einstein ?p dbr:German_Empire .\n",
    "}\n",
    "\"\"\"\n",
    "\n",
    "\n",
    "sparql_o = SPARQL(input_query)\n",
    "\n",
    "\n",
    "class Triple:  # chaneg name\n",
    "    def __init__(self, sub, pre, obj):\n",
    "        self.sub = sub\n",
    "        self.pre = pre\n",
    "        self.obj = obj\n",
    "\n",
    "    def get_subject(self):\n",
    "\n",
    "        return self.sub\n",
    "\n",
    "    def get_predicate(self):\n",
    "        return self.pre\n",
    "\n",
    "    def get_object(self):\n",
    "        return self.obj\n",
    "\n",
    "\n",
    "triples_to_query = []\n",
    "\n",
    "for s in sparql_o.triple_list:\n",
    "    triples_to_query.append(\n",
    "        Triple(s.split(' ')[0], s.split(' ')[1], s.split(' ')[2]))\n",
    "\n",
    "\n",
    "# for t in triples_to_query:\n",
    "#     print(\"sub \" + t.get_subject())\n",
    "#     print(\"pre \" + t.get_predicate())\n",
    "#     print(\"obj \" + t.get_object())\n",
    "#     print('------------------')\n",
    "\n",
    "# # x = a.template\n",
    "\n",
    "cost = 0\n",
    "\n",
    "list_of_queries = []\n",
    "\n",
    "\n",
    "\n",
    "\n",
    "o = \"o\"\n",
    "oo =\"x\"\n",
    "num = 4\n",
    "for x in range(num):\n",
    "    last = triples_to_query[-1]\n",
    "    triples_to_query.append(Triple(last.get_object(), f\"?{oo*(cost+1)}\", f\"?{o*(cost+1)}\"))\n",
    "    cost += 1\n",
    "\n",
    "            \n",
    "variable = \"?p \"\n",
    "for t in triples_to_query[1:]:\n",
    "    variable += f\"{t.get_predicate()} {t.get_object()}\"\n",
    "   \n",
    "\n",
    "\n",
    "sparql_query = f\"{sparql_o.intent} {variable} where {{\\n\"\n",
    "for triple in triples_to_query:\n",
    "    sparql_query += f\"    {triple.get_subject()} {triple.get_predicate()} {triple.get_object()} .\\n\"\n",
    "sparql_query += \"}\\n LIMIT 20\"\n",
    "\n",
    "# full_query = list_of_prefix + sparql_query\n",
    "\n",
    "\n",
    "full_querry = list_of_prefix + sparql_query\n",
    "\n",
    "print(full_querry)\n",
    "my_query(full_querry)\n"
   ]
  },
  {
   "attachments": {},
   "cell_type": "markdown",
   "metadata": {},
   "source": [
    "## The endpoint ## "
   ]
  },
  {
   "cell_type": "code",
   "execution_count": 240,
   "metadata": {},
   "outputs": [],
   "source": [
    "\n",
    "def my_query(query_to_execute): \n",
    "    sparql = SPARQLWrapper(\"https://api.triplydb.com/datasets/DBpedia-association/dbpedia/services/dbpedia/sparql\")\n",
    "    sparql.setQuery(query_to_execute)\n",
    "    sparql.setReturnFormat(JSON)\n",
    "    results = sparql.query().convert()  \n",
    "    \n",
    "    index = results['head']['vars']\n",
    "    \n",
    "    result_list = []\n",
    "    ind_reslut = []\n",
    "    \n",
    "    \n",
    "    for y in index:\n",
    "        for x in results['results']['bindings']:\n",
    "            ind_reslut.append(x[y]['value'])\n",
    "        result_list.append(ind_reslut)\n",
    "        ind_reslut = []\n",
    "        \n",
    "    wr_my_list(result_list)\n",
    "\n"
   ]
  },
  {
   "attachments": {},
   "cell_type": "markdown",
   "metadata": {},
   "source": [
    "## The returned result ##"
   ]
  },
  {
   "cell_type": "code",
   "execution_count": null,
   "metadata": {},
   "outputs": [],
   "source": [
    "\n",
    "def execute_query(query_to_execute): \n",
    "    sparql = SPARQLWrapper(\"https://api.triplydb.com/datasets/DBpedia-association/dbpedia/services/dbpedia/sparql\")\n",
    "    sparql.setQuery(query_to_execute)\n",
    "    sparql.setReturnFormat(JSON)\n",
    "    results = sparql.query().convert()  \n",
    "\n",
    "    index = results['head']['vars']\n",
    "\n",
    "    result_list = []\n",
    "    ind_reslut = []\n",
    "\n",
    "\n",
    "    for y in index:\n",
    "        for x in results['results']['bindings']:\n",
    "            ind_reslut.append(x[y]['value'])\n",
    "        result_list.append(ind_reslut)\n",
    "        ind_reslut = []\n",
    "\n",
    "    print(result_list)\n",
    "\n",
    "\n"
   ]
  },
  {
   "attachments": {},
   "cell_type": "markdown",
   "metadata": {},
   "source": [
    "\n",
    "\n",
    "## Node forward ## \n"
   ]
  },
  {
   "cell_type": "code",
   "execution_count": 265,
   "metadata": {},
   "outputs": [
    {
     "data": {
      "text/plain": [
       "'?p ?oo ?o?oooo ?oo?oooooo ?ooo?oooooooo ?oooo?oooooooooo ?ooooo?oooooooooooo ?oooooo?oooooooooooooo ?ooooooo?oooooooooooooooo ?oooooooo'"
      ]
     },
     "execution_count": 265,
     "metadata": {},
     "output_type": "execute_result"
    }
   ],
   "source": [
    "node_forward = \"\"\"\n",
    "        \n",
    "PREFIX dbp: <http://dbpedia.org/resource/>\n",
    "PREFIX dbo: <http://dbpedia.org/ontology/>\n",
    "\n",
    "SELECT ?p ?place ?x  ?y?a ?b\n",
    "WHERE {\n",
    "    dbp:Albert_Einstein ?p ?place .\n",
    "  \t?place ?x ?y.\n",
    "  \t?y ?a ?b.\n",
    "}\n",
    "LIMIT 10\n",
    "\n",
    "\n",
    "\"\"\"\n",
    "\n",
    "o = \"o\"\n",
    "oo =\"oo\"\n",
    "num = 4\n",
    "for x in range(num):\n",
    "    last = triples_to_query[-1]\n",
    "    triples_to_query.append(Triple(last.get_object(), f\"?{oo*(cost+1)}\", f\"?{o*(cost+1)}\"))\n",
    "    cost += 1\n",
    "\n",
    "            \n",
    "variable = \"?p \"\n",
    "for t in triples_to_query[1:]:\n",
    "    variable += f\"{t.get_predicate()} {t.get_object()}\"\n",
    "   \n",
    "\n",
    "    \n",
    "\n",
    "\n",
    "\n",
    "# for t in triples_to_query[1:]:\n",
    "#     print(\"sub \" + t.get_subject())\n",
    "#     print(\"pre \" + t.get_predicate())\n",
    "#     print(\"obj \" + t.get_object())\n",
    "#     print('------------------')\n",
    "\n",
    "# what we do is add a new set of SPO to the end of the triples to be executed \n",
    "\n"
   ]
  },
  {
   "attachments": {},
   "cell_type": "markdown",
   "metadata": {},
   "source": [
    "\n",
    "\n",
    "## Node Backward ## \n"
   ]
  },
  {
   "cell_type": "code",
   "execution_count": 12,
   "metadata": {},
   "outputs": [],
   "source": [
    "node_backward = \"\"\"\n",
    "\n",
    "PREFIX dbr: <http://dbpedia.org/resource/>\n",
    "PREFIX dbp: <http://dbpedia.org/resource/>\n",
    "PREFIX dbo: <http://dbpedia.org/ontology/>\n",
    "\n",
    "\n",
    "SELECT *\n",
    "WHERE {\n",
    "  ?a ?b ?z.\n",
    "  ?z ?p ?x.\n",
    "  ?x ?y dbp:Albert_Einstein.\n",
    "    dbp:Albert_Einstein ?place dbr:German_Empire .\n",
    "}\n",
    "\n",
    "limit 20\n",
    "\"\"\"\n",
    "\n",
    "query_to_execute = node_backward"
   ]
  },
  {
   "attachments": {},
   "cell_type": "markdown",
   "metadata": {},
   "source": [
    "## Substitution ##"
   ]
  },
  {
   "cell_type": "code",
   "execution_count": 8,
   "metadata": {},
   "outputs": [],
   "source": [
    "sub = \"\"\"\n",
    "\n",
    "PREFIX dbr: <http://dbpedia.org/resource/>\n",
    "PREFIX dbp: <http://dbpedia.org/resource/>\n",
    "PREFIX dbo: <http://dbpedia.org/ontology/>\n",
    "\n",
    "#SELECT ?p ?place\n",
    "#WHERE {\n",
    "#    dbp:Albert_Einstein dbp:birthplace dbr:German_Empire .\n",
    "#}\n",
    "#\n",
    "SELECT ?p ?place\n",
    "WHERE {\n",
    "    dbp:Albert_Einstein ?p ?place .\n",
    "}\n",
    "LIMIT 10\n",
    "\"\"\"\n",
    "\n",
    "query_to_execute = sub"
   ]
  },
  {
   "attachments": {},
   "cell_type": "markdown",
   "metadata": {},
   "source": [
    "## Printer of the list ##"
   ]
  },
  {
   "cell_type": "code",
   "execution_count": 9,
   "metadata": {},
   "outputs": [],
   "source": [
    "# def print_my_list(l1list):\n",
    "#     for l1 in zip(l1list):\n",
    "#         for l2 in l1:\n",
    "#             print(l2)\n",
    "#         print()\n",
    "#         # print(l1,l2)\n",
    "#         print('------------------')"
   ]
  },
  {
   "cell_type": "code",
   "execution_count": 239,
   "metadata": {},
   "outputs": [],
   "source": [
    "def wr_my_list(l1list):\n",
    "    file_path = 'test.txt'\n",
    "    with open(file_path, 'w') as file:\n",
    "        \n",
    "        for l1 in zip(*l1list):\n",
    "            for l2 in l1:\n",
    "                file.write(str(l2) + \"   \" )\n",
    "            file.write('\\n ------------------ \\n')\n"
   ]
  },
  {
   "attachments": {},
   "cell_type": "markdown",
   "metadata": {},
   "source": [
    "## -------------------------------------------------------------------------------------------------------------------------------------- ##"
   ]
  },
  {
   "attachments": {},
   "cell_type": "markdown",
   "metadata": {},
   "source": [
    "## question ##\n",
    " 1. every estimation we create two new variables , what do we do with them so if we start with og we keep going ?"
   ]
  },
  {
   "cell_type": "code",
   "execution_count": null,
   "metadata": {},
   "outputs": [],
   "source": [
    "def answer_convert(item_answer):\n",
    "    if 'boolean' in item_answer.keys():\n",
    "        at = 'boolean'\n",
    "    else:\n",
    "        at = item_answer['head']['vars'][0]\n",
    "    answer = []\n",
    "    if at == 'boolean':\n",
    "        answer.append(item_answer['boolean'])\n",
    "    else:\n",
    "        for cand in item_answer['results']['bindings']:\n",
    "            if at == 'date':\n",
    "                answer.append(cand['date']['value'])\n",
    "            elif at == 'number':\n",
    "                answer.append(cand['c']['value'])\n",
    "            elif at == 'resource' or at == 'uri':\n",
    "                answer.append(cand['uri']['value'])\n",
    "            elif at == 'string':\n",
    "                answer.append(cand['string']['value'])\n",
    "            elif at == 'callret-0':\n",
    "                answer.append(cand['callret-0']['value'])\n",
    "            else: \n",
    "                answer.append(cand[at]['value'])\n",
    "    return answer\n",
    "\n",
    "\n",
    "sparql = SPARQLWrapper(\n",
    "    \"https://api.triplydb.com/datasets/academy/pokemon/services/pokemon/sparql\")\n",
    "sparql.setQuery(sparql_query)\n",
    "sparql.setReturnFormat(JSON)\n",
    "results = sparql.query().convert()  \n",
    "answer = answer_convert(results)\n",
    "\n",
    "type(results.items())\n",
    "\n",
    "print(results.keys())\n",
    "print('boolean' in results.keys())\n"
   ]
  },
  {
   "cell_type": "code",
   "execution_count": 252,
   "metadata": {},
   "outputs": [
    {
     "name": "stdout",
     "output_type": "stream",
     "text": [
      "this is a hellohello \n"
     ]
    }
   ],
   "source": [
    "num = 2\n",
    "\n",
    "text = \"hello\"\n",
    "\n",
    "output = f\"this is a {text*num} \"\n",
    "\n",
    "print(output)"
   ]
  }
 ],
 "metadata": {
  "kernelspec": {
   "display_name": "Python 3",
   "language": "python",
   "name": "python3"
  },
  "language_info": {
   "codemirror_mode": {
    "name": "ipython",
    "version": 3
   },
   "file_extension": ".py",
   "mimetype": "text/x-python",
   "name": "python",
   "nbconvert_exporter": "python",
   "pygments_lexer": "ipython3",
   "version": "3.8.10"
  },
  "orig_nbformat": 4,
  "vscode": {
   "interpreter": {
    "hash": "916dbcbb3f70747c44a77c7bcd40155683ae19c65e1c03b4aa3499c5328201f1"
   }
  }
 },
 "nbformat": 4,
 "nbformat_minor": 2
}
