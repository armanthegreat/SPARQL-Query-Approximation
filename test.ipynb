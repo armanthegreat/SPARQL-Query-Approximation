{
 "cells": [
  {
   "attachments": {},
   "cell_type": "markdown",
   "metadata": {},
   "source": [
    "The parser class "
   ]
  },
  {
   "cell_type": "code",
   "execution_count": 204,
   "metadata": {},
   "outputs": [
    {
     "name": "stdout",
     "output_type": "stream",
     "text": [
      "sub ?x\n",
      "pre <http://dbpedia.org/property/international>\n",
      "obj <http://dbpedia.org/resource/Muslim_Brotherhood>\n",
      "------------------\n",
      "sub ?x\n",
      "pre <http://dbpedia.org/ontology/religion>\n",
      "obj ?uri\n",
      "------------------\n",
      "sub ?x\n",
      "pre <http://www.w3.org/1999/02/22-rdf-syntax-ns#type>\n",
      "obj <http://dbpedia.org/ontology/PoliticalParty>\n",
      "------------------\n"
     ]
    }
   ],
   "source": [
    "\n",
    "\n",
    "from typing import Any\n",
    "from SPARQL_parser import SPARQL\n",
    "from SPARQLWrapper import SPARQLWrapper, JSON\n",
    "\n",
    " \n",
    "sparql_query='SELECT DISTINCT ?uri WHERE { ?x <http://dbpedia.org/property/international> <http://dbpedia.org/resource/Muslim_Brotherhood> . ?x <http://dbpedia.org/ontology/religion> ?uri  . ?x <http://www.w3.org/1999/02/22-rdf-syntax-ns#type> <http://dbpedia.org/ontology/PoliticalParty> . } '\n",
    "a= SPARQL(sparql_query)\n",
    "\n",
    "\n",
    "\n",
    "class Triples: # chaneg name\n",
    "        def __init__(self, triple_list):\n",
    "            self.triple_list = triple_list\n",
    "        \n",
    "        def get_triple_list(self):\n",
    "            return self.triple_list\n",
    "        \n",
    "        def get_subject(self):\n",
    "            return self.triple_list[0]\n",
    "        \n",
    "        def get_predicate(self):\n",
    "            return self.triple_list[1]\n",
    "        \n",
    "        def _get_object(self):\n",
    "            return self.triple_list[2]\n",
    "        \n",
    "        \n",
    "\n",
    "\n",
    "triples_list= []\n",
    "\n",
    "\n",
    "for s in a.triple_list:\n",
    "    triples_list.append(Triples(s.split(' ')))\n",
    "\n",
    "for t in triples_list:\n",
    "    # print(t.get_triple_list())\n",
    "    print(\"sub \" + t.get_subject())\n",
    "    print(\"pre \" + t.get_predicate())\n",
    "    print(\"obj \" + t._get_object())\n",
    "    print('------------------')\n",
    "\n",
    "\n",
    "\n",
    "\n"
   ]
  },
  {
   "attachments": {},
   "cell_type": "markdown",
   "metadata": {},
   "source": [
    "The endpoint "
   ]
  },
  {
   "cell_type": "code",
   "execution_count": 188,
   "metadata": {},
   "outputs": [
    {
     "name": "stdout",
     "output_type": "stream",
     "text": [
      "[['https://triplydb.com/academy/pokemon/vocab/ability', 'https://triplydb.com/academy/pokemon/vocab/effortAttack', 'https://triplydb.com/academy/pokemon/vocab/baseAttack', 'https://triplydb.com/academy/pokemon/vocab/baseDefense', 'https://triplydb.com/academy/pokemon/vocab/baseExp', 'https://triplydb.com/academy/pokemon/vocab/baseHP', 'https://triplydb.com/academy/pokemon/vocab/baseSpAtk', 'https://triplydb.com/academy/pokemon/vocab/baseSpDef', 'https://triplydb.com/academy/pokemon/vocab/baseSpeed', 'https://triplydb.com/academy/pokemon/vocab/colour'], ['Ability', 'Attack effort', 'Base attack', 'Base defense statistic', 'Base experience', 'Base health', 'Base special attack', 'Base special defense', 'Base speed', 'Color']]\n"
     ]
    }
   ],
   "source": [
    "sparql = SPARQLWrapper(\"https://api.triplydb.com/datasets/academy/pokemon/services/pokemon/sparql\")\n",
    "sparql.setQuery(sparql_query)\n",
    "sparql.setReturnFormat(JSON)\n",
    "results = sparql.query().convert()  \n",
    "\n",
    "index = results['head']['vars']\n",
    "\n",
    "result_list = []\n",
    "ind_reslut = []\n",
    "\n",
    "\n",
    "for y in index:\n",
    "    for x in results['results']['bindings']:\n",
    "        ind_reslut.append(x[y]['value'])\n",
    "    result_list.append(ind_reslut)\n",
    "    ind_reslut = []\n",
    "print(result_list)\n"
   ]
  },
  {
   "cell_type": "code",
   "execution_count": null,
   "metadata": {},
   "outputs": [],
   "source": [
    "def answer_convert(item_answer):\n",
    "    if 'boolean' in item_answer.keys():\n",
    "        at = 'boolean'\n",
    "    else:\n",
    "        at = item_answer['head']['vars'][0]\n",
    "    answer = []\n",
    "    if at == 'boolean':\n",
    "        answer.append(item_answer['boolean'])\n",
    "    else:\n",
    "        for cand in item_answer['results']['bindings']:\n",
    "            if at == 'date':\n",
    "                answer.append(cand['date']['value'])\n",
    "            elif at == 'number':\n",
    "                answer.append(cand['c']['value'])\n",
    "            elif at == 'resource' or at == 'uri':\n",
    "                answer.append(cand['uri']['value'])\n",
    "            elif at == 'string':\n",
    "                answer.append(cand['string']['value'])\n",
    "            elif at == 'callret-0':\n",
    "                answer.append(cand['callret-0']['value'])\n",
    "            else: \n",
    "                answer.append(cand[at]['value'])\n",
    "    return answer\n",
    "\n",
    "\n",
    "sparql = SPARQLWrapper(\n",
    "    \"https://api.triplydb.com/datasets/academy/pokemon/services/pokemon/sparql\")\n",
    "sparql.setQuery(sparql_query)\n",
    "sparql.setReturnFormat(JSON)\n",
    "results = sparql.query().convert()  \n",
    "answer = answer_convert(results)\n",
    "\n",
    "type(results.items())\n",
    "\n",
    "print(results.keys())\n",
    "print('boolean' in results.keys())\n"
   ]
  }
 ],
 "metadata": {
  "kernelspec": {
   "display_name": "Python 3",
   "language": "python",
   "name": "python3"
  },
  "language_info": {
   "codemirror_mode": {
    "name": "ipython",
    "version": 3
   },
   "file_extension": ".py",
   "mimetype": "text/x-python",
   "name": "python",
   "nbconvert_exporter": "python",
   "pygments_lexer": "ipython3",
   "version": "3.8.10"
  },
  "orig_nbformat": 4,
  "vscode": {
   "interpreter": {
    "hash": "916dbcbb3f70747c44a77c7bcd40155683ae19c65e1c03b4aa3499c5328201f1"
   }
  }
 },
 "nbformat": 4,
 "nbformat_minor": 2
}
