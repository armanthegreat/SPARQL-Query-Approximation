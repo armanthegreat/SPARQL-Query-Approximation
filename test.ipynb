{
 "cells": [
  {
   "cell_type": "code",
   "execution_count": 35,
   "metadata": {},
   "outputs": [],
   "source": [
    "\n",
    "\n",
    "from typing import Any\n",
    "from SPARQL_parser import SPARQL\n",
    "from SPARQLWrapper import SPARQLWrapper, JSON\n",
    "\n",
    "\n",
    "list_of_prefix = \"\"\"\n",
    "PREFIX rdf: <http://www.w3.org/1999/02/22-rdf-syntax-ns#>\n",
    "PREFIX prop: <http://dbpedia.org/property/>\n",
    "PREFIX owl: <http://www.w3.org/2002/07/owl#>\n",
    "PREFIX dbp: <http://dbpedia.org/resource/>\n",
    "PREFIX dct: <http://purl.org/dc/terms/>\n",
    "PREFIX res: <http://dbpedia.org/resource/>\n",
    "PREFIX dbo: <http://dbpedia.org/ontology/>\n",
    "PREFIX skos: <http://www.w3.org/2004/02/skos/core#>\n",
    "PREFIX db: <http://dbpedia.org/>\n",
    "PREFIX yago: <http://dbpedia.org/class/yago/>\n",
    "PREFIX onto: <http://dbpedia.org/ontology/>\n",
    "PREFIX rdfs: <http://www.w3.org/2000/01/rdf-schema#>\n",
    "PREFIX foaf: <http://xmlns.com/foaf/0.1/>\n",
    "PREFIX dbr: <http://dbpedia.org/resource/>\n",
    "PREFIX dbc: <http://dbpedia.org/resource/Category:>\n",
    "PREFIX dbpedia2: <http://dbpedia.org/property/>\n",
    "\"\"\"\n",
    "\n",
    "# will change it to be received from the user\n",
    "\n",
    "input_query = \"\"\"\n",
    "SELECT  ?album WHERE{\n",
    "   ?album  dbo:rtf dbr:The_Rolling_Stones.\n",
    "        ?album  rdf:type dbo:Album.\n",
    "  ?album dbo:recordLabel dbr:London_Records\n",
    "}\n",
    "\"\"\"\n",
    "parsed_query = SPARQL(input_query)\n",
    "\n",
    "\n",
    "# print(parsed_query.triple_list)\n",
    "\n",
    "class Triple: \n",
    "    def __init__(self, sub, pre, obj):\n",
    "        self.sub = sub\n",
    "        self.pre = pre\n",
    "        self.obj = obj\n",
    "\n",
    "    def get_subject(self):\n",
    "\n",
    "        return self.sub\n",
    "\n",
    "    def get_predicate(self):\n",
    "        return self.pre\n",
    "\n",
    "    def get_object(self):\n",
    "        return self.obj\n",
    "\n",
    "\n",
    "\n",
    "triples_to_query = []\n",
    "\n",
    "for s in parsed_query.abbr_triple_list:\n",
    "    triples_to_query.append(\n",
    "        Triple(s.split(' ')[0], s.split(' ')[1], s.split(' ')[2]))\n",
    "    \n",
    "\n",
    "original_query_t = [[],[],[]]\n",
    "\n",
    "for x in triples_to_query:\n",
    "    original_query_t[0].append(str(x.get_subject()))\n",
    "    original_query_t[1].append(str(x.get_predicate()))\n",
    "    original_query_t[2].append(str(x.get_object()))\n",
    "\n",
    "# print(len(parsed_query.triple_list))\n",
    "# parsed_query.abbr_triple_list[1]\n",
    "# print(parsed_query.abbr_triple_list)\n",
    "# print(len(parsed_query.abbr_triple_list))\n",
    "# print(parsed_query.triple_list)\n",
    "# print(len(parsed_query.triple_list))\n",
    "# len(triples_to_query)\n",
    "\n",
    "# for x in triples_to_query:\n",
    "#     print(x.get_subject(), x.get_predicate(), x.get_object())\n",
    "#     print(\"------------------\")\n",
    "\n"
   ]
  },
  {
   "attachments": {},
   "cell_type": "markdown",
   "metadata": {},
   "source": [
    "## The parser class ##"
   ]
  },
  {
   "attachments": {},
   "cell_type": "markdown",
   "metadata": {},
   "source": [
    "## The approx function call "
   ]
  },
  {
   "cell_type": "code",
   "execution_count": 39,
   "metadata": {},
   "outputs": [],
   "source": [
    "\n",
    "\n",
    "# STARTING POINT APPROX -> GET APPROX -> CALCULATE -> EXECUTE_Q -> BUILD_QUERY -> run_query -> wr_my_query\n",
    "\n",
    "#  Goes to the dictionary and creates a new index which is the cost and calls the approx queries to calculate the values in that cost \n",
    "\n",
    "approx_queries = dict()\n",
    "\n",
    "def approx(cost):\n",
    "    for a in range (cost+1):\n",
    "        approx_queries[str(a)] = get_approx(a)\n",
    "\n",
    "\n",
    "#  this gets the index(cost) and returns a whole list of triples list for that cost \n",
    "# the output is the final list\n",
    "def get_approx(a):\n",
    "    value = []\n",
    "    if a == 0:\n",
    "        value.append(triples_to_query)\n",
    "        # build_query(value)\n",
    "        execute_q(value,a)\n",
    "    else:\n",
    "        pre_approx = approx_queries[str(a-1)] # here we get the list of triples list belonging to the previous query\n",
    "        for triple in pre_approx: # here we iterate over the list of triples list\n",
    "            new_approx =  calculate(triple, a) # here creating the temp list of triples by calling the calculate function(A single list of triples , cost)\n",
    "            execute_q(new_approx,a)\n",
    "            # build_query(new_approx)\n",
    "            value += new_approx # here we append the list belonging to the previous query to the total list\n",
    "    return value\n",
    "\n",
    "\n",
    "# approx(1)\n",
    "\n",
    "\n",
    "\n",
    "# for key in approx_queries.keys():\n",
    "#     print (f\" ******* key = {key} *******\")\n",
    "#     for b in approx_queries[str(key)]: \n",
    "#         # print(len(b))  # b is  a list of triples\n",
    "#         for c in b: # c is a list triple\n",
    "#             print((str(c.get_subject()) + \" \" + str(c.get_predicate()) + \" \" + str(c.get_object())))\n",
    "#         print (\"-----------------------\")\n",
    "       \n"
   ]
  },
  {
   "attachments": {},
   "cell_type": "markdown",
   "metadata": {},
   "source": [
    "## calculation the approx "
   ]
  },
  {
   "cell_type": "code",
   "execution_count": 11,
   "metadata": {},
   "outputs": [],
   "source": [
    "\n",
    "def calculate(triples,cost):\n",
    "    values = []\n",
    "    for triple in triples:\n",
    "        index = triples.index(triple)\n",
    "\n",
    "        if(triple.get_subject() in original_query_t[0]):\n",
    "            values.append(left_insertion(triples, cost,index))\n",
    "        if(triple.get_predicate() in original_query_t[1]): \n",
    "            values.append(sub(triples, cost, index))\n",
    "        if(triple.get_object() in original_query_t[2]):\n",
    "             values.append(right_insertion(triples, cost,index))\n",
    "    return values\n",
    "    \n",
    "\n",
    "def left_insertion(triple,cost,index):\n",
    "    list_of_approx = triple[:]\n",
    "    list_of_approx.insert(index,(Triple(list_of_approx[index].get_subject(),f\"?p{cost}\",f\"?o{cost}\")))\n",
    "    list_of_approx[index +1] = Triple(f\"?o{cost}\",list_of_approx[index+1].get_predicate(),list_of_approx[index+1].get_object())\n",
    "    return list_of_approx\n",
    "\n",
    "def right_insertion(triple,cost,index):\n",
    "\n",
    "    list_of_approx = triple[:]\n",
    "    list_of_approx.insert(index+1,(Triple(f\"?o{cost}\",f\"?p{cost}\",list_of_approx[index].get_object())))\n",
    "    list_of_approx[index] = Triple(list_of_approx[index].get_subject(),list_of_approx[index].get_predicate(),f\"?o{cost}\")\n",
    "    return list_of_approx\n",
    "\n",
    "def sub(triples,cost,index):\n",
    "    list_of_approx = triples[:]\n",
    "    list_of_approx[index] = (Triple(triples[index].get_subject(),f\"?p{cost}\",triples[index].get_object()))\n",
    "    return list_of_approx       "
   ]
  },
  {
   "attachments": {},
   "cell_type": "markdown",
   "metadata": {},
   "source": [
    "## The query builder ##\n",
    "    "
   ]
  },
  {
   "cell_type": "code",
   "execution_count": 77,
   "metadata": {},
   "outputs": [],
   "source": [
    "\n",
    "def execute_q(queries,cost):\n",
    "   for query in queries:\n",
    "    run_query( build_query(query),cost)\n",
    "        # build_query(query)\n",
    "\n",
    "\n",
    "def build_query(queries):\n",
    "    # label = parsed_query.former.strip(parsed_query.intent)\n",
    "    sparql_query = f\"{parsed_query.intent} distinct{parsed_query.former.strip(parsed_query.intent)} where {{\\n\"\n",
    "    for triple in queries:\n",
    "        sparql_query += f\"{triple.get_subject()} {triple.get_predicate()} {triple.get_object()} .\\n\"\n",
    "    # sparql_query += f\"{label} rdfs:label ?label .\\n\"\n",
    "    sparql_query += \"}\\n LIMIT 25\"\n",
    "\n",
    "#\n",
    "    return( list_of_prefix + sparql_query)\n",
    "    # print ( list_of_prefix + sparql_query)"
   ]
  },
  {
   "attachments": {},
   "cell_type": "markdown",
   "metadata": {},
   "source": [
    "## The endpoint ## "
   ]
  },
  {
   "cell_type": "code",
   "execution_count": 13,
   "metadata": {},
   "outputs": [],
   "source": [
    "\n",
    "\n",
    "\n",
    "def run_query(query_to_execute,cost): \n",
    "    sparql = SPARQLWrapper(\"https://api.triplydb.com/datasets/DBpedia-association/dbpedia/services/dbpedia/sparql\")\n",
    "    sparql.setQuery(query_to_execute)\n",
    "    sparql.setReturnFormat(JSON)\n",
    "    results = sparql.query().convert()  \n",
    "    \n",
    "    index = results['head']['vars']\n",
    "    \n",
    "    ind_reslut = []\n",
    "    result_list = []\n",
    "    \n",
    "    \n",
    "    for y in index:\n",
    "        for x1 in results['results']['bindings']:\n",
    "            ind_reslut.append(x1[y]['value'])\n",
    "        result_list.append(ind_reslut)\n",
    "        ind_reslut = []\n",
    "        \n",
    "    wr_my_list(result_list,cost)\n",
    "\n"
   ]
  },
  {
   "cell_type": "code",
   "execution_count": 63,
   "metadata": {},
   "outputs": [],
   "source": [
    "def wr_my_list(l1list,cost):\n",
    "    # final_list.append(l1list)\n",
    "    # final_list.extend( l1list)    \n",
    "    file_path = 'test2.txt'\n",
    "    with open(file_path, 'a') as file:\n",
    "        for l1 in zip(*l1list):\n",
    "            for l2 in l1:\n",
    "                final_list.append(l2)\n",
    "                file.write(str(l2) + \" \" + str(cost) + \"\\n\" )\n",
    "   \n"
   ]
  },
  {
   "cell_type": "code",
   "execution_count": 79,
   "metadata": {},
   "outputs": [
    {
     "data": {
      "text/plain": [
       "18"
      ]
     },
     "execution_count": 79,
     "metadata": {},
     "output_type": "execute_result"
    }
   ],
   "source": [
    "final_list = []\n",
    "approx(1)\n",
    "len(final_list)\n",
    "\n"
   ]
  },
  {
   "attachments": {},
   "cell_type": "markdown",
   "metadata": {},
   "source": [
    "### To do \n",
    "\n",
    "    1- get the labels instead of the uri or have both \n",
    "        1.1 for this you first need to get the variables if they are many you need to loop at the end to get them all \n",
    "    \n",
    "    2- Find a way even if a query crashes you keep going on \n",
    "        2.1 i think here we need threads \n",
    "\n",
    "    3- add the empty path \n",
    "\n",
    "    4- continue from where it stopped \n",
    "        4.1 basically continue the dictionary \n",
    "            4.1.1 problem is it depends on the previous part so we need some sort of cashing to not repeat the whole cost cause for higher costs it impossible. \n",
    "\n",
    "        "
   ]
  }
 ],
 "metadata": {
  "kernelspec": {
   "display_name": "Python 3",
   "language": "python",
   "name": "python3"
  },
  "language_info": {
   "codemirror_mode": {
    "name": "ipython",
    "version": 3
   },
   "file_extension": ".py",
   "mimetype": "text/x-python",
   "name": "python",
   "nbconvert_exporter": "python",
   "pygments_lexer": "ipython3",
   "version": "3.8.10"
  },
  "orig_nbformat": 4,
  "vscode": {
   "interpreter": {
    "hash": "916dbcbb3f70747c44a77c7bcd40155683ae19c65e1c03b4aa3499c5328201f1"
   }
  }
 },
 "nbformat": 4,
 "nbformat_minor": 2
}
