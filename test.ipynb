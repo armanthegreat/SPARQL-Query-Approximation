{
 "cells": [
  {
   "attachments": {},
   "cell_type": "markdown",
   "metadata": {},
   "source": [
    "## The parser class ##"
   ]
  },
  {
   "cell_type": "code",
   "execution_count": 1,
   "metadata": {},
   "outputs": [],
   "source": [
    "\n",
    "\n",
    "from typing import Any\n",
    "from SPARQL_parser import SPARQL\n",
    "from SPARQLWrapper import SPARQLWrapper, JSON\n",
    "\n",
    "\n",
    "list_of_prefix = \"\"\"\n",
    "PREFIX prop: <http://dbpedia.org/property/>\n",
    "PREFIX owl: <http://www.w3.org/2002/07/owl#>\n",
    "PREFIX dbp: <http://dbpedia.org/resource/>\n",
    "PREFIX dct: <http://purl.org/dc/terms/>\n",
    "PREFIX res: <http://dbpedia.org/resource/>\n",
    "PREFIX dbo: <http://dbpedia.org/ontology/>\n",
    "PREFIX skos: <http://www.w3.org/2004/02/skos/core#>\n",
    "PREFIX db: <http://dbpedia.org/>\n",
    "PREFIX yago: <http://dbpedia.org/class/yago/>\n",
    "PREFIX onto: <http://dbpedia.org/ontology/>\n",
    "PREFIX rdfs: <http://www.w3.org/2000/01/rdf-schema#>\n",
    "PREFIX foaf: <http://xmlns.com/foaf/0.1/>\n",
    "PREFIX dbr: <http://dbpedia.org/resource/>\n",
    "PREFIX dbc: <http://dbpedia.org/resource/Category:>\n",
    "PREFIX dbpedia2: <http://dbpedia.org/property/>\n",
    "\"\"\"\n",
    "\n",
    "#will change it to be received from the user\n",
    "input_query = \"\"\"\n",
    "SELECT ?p ?place\n",
    "WHERE {\n",
    "   dbr:Albert_Einstein dbo:birthPlace ?place .\n",
    "}\n",
    "\"\"\"\n",
    "\n",
    "\n",
    "parsed_query = SPARQL(input_query)\n",
    "\n",
    "\n",
    "class Triple:  # chaneg name\n",
    "    def __init__(self, sub, pre, obj):\n",
    "        self.sub = sub\n",
    "        self.pre = pre\n",
    "        self.obj = obj\n",
    "        self.approx = []\n",
    "\n",
    "    def get_subject(self):\n",
    "\n",
    "        return self.sub\n",
    "\n",
    "    def get_predicate(self):\n",
    "        return self.pre\n",
    "\n",
    "    def get_object(self):\n",
    "        return self.obj\n",
    "    \n",
    "    def get_approx(self):\n",
    "        return self.approx\n",
    "    \n",
    "    def set_approx(self, approx):\n",
    "        self.approx.append(approx)\n",
    "\n",
    "    def update_approx(self, approx):\n",
    "        self.approx = approx\n",
    "    \n",
    "    def clear_approx(self):\n",
    "        self.approx = []\n",
    "\n",
    "\n",
    "\n",
    "triples_to_query = []\n",
    "\n",
    "for s in parsed_query.triple_list:\n",
    "    triples_to_query.append(Triple(s.split(' ')[0], s.split(' ')[1], s.split(' ')[2]))\n",
    "    triples_to_query[-1].set_approx(triples_to_query[-1])\n",
    "\n",
    "\n",
    "# full_query = get_query()\n",
    "# my_query(full_query)\n"
   ]
  },
  {
   "attachments": {},
   "cell_type": "markdown",
   "metadata": {},
   "source": [
    "## The query builder ##\n",
    "    "
   ]
  },
  {
   "cell_type": "code",
   "execution_count": 3,
   "metadata": {},
   "outputs": [],
   "source": [
    "# first the triples in the original query\n",
    "    # then the triples that are in the approximations\n",
    "# second triples in the original query and then \n",
    "    # again its approximations \n",
    "\n",
    "\n",
    "def get_query():\n",
    "    cost = 0\n",
    "    variables = parsed_query.former_template.strip(parsed_query.intent) + \" \"\n",
    "    variables += node_forward(4,cost)\n",
    "\n",
    "    sparql_query = f\"{parsed_query.intent}{variables} where {{\\n\"\n",
    "    for triple in triples_to_query[0].get_approx():\n",
    "        sparql_query += f\"    {triple.get_subject()} {triple.get_predicate()} {triple.get_object()} .\\n\"\n",
    "    sparql_query += \"}\\n LIMIT 20\"\n",
    "\n",
    "\n",
    "    return list_of_prefix + sparql_query\n",
    "\n",
    "\n",
    "# print(get_query())\n",
    "\n",
    "# for t in triples_to_query:\n",
    "#     print(\"sub \" + t.get_subject())\n",
    "#     print(\"pre \" + t.get_predicate())\n",
    "#     print(\"obj \" + t.get_object())\n",
    "#     print('------------------')\n",
    "\n",
    "# get_query()"
   ]
  },
  {
   "attachments": {},
   "cell_type": "markdown",
   "metadata": {},
   "source": [
    "## The endpoint ## "
   ]
  },
  {
   "cell_type": "code",
   "execution_count": 4,
   "metadata": {},
   "outputs": [],
   "source": [
    "\n",
    "def my_query(query_to_execute): \n",
    "    sparql = SPARQLWrapper(\"https://api.triplydb.com/datasets/DBpedia-association/dbpedia/services/dbpedia/sparql\")\n",
    "    sparql.setQuery(query_to_execute)\n",
    "    sparql.setReturnFormat(JSON)\n",
    "    results = sparql.query().convert()  \n",
    "    \n",
    "    index = results['head']['vars']\n",
    "    \n",
    "    result_list = []\n",
    "    ind_reslut = []\n",
    "    \n",
    "    \n",
    "    for y in index:\n",
    "        for x1 in results['results']['bindings']:\n",
    "            ind_reslut.append(x1[y]['value'])\n",
    "        result_list.append(ind_reslut)\n",
    "        ind_reslut = []\n",
    "        \n",
    "    wr_my_list(result_list)\n",
    "\n"
   ]
  },
  {
   "attachments": {},
   "cell_type": "markdown",
   "metadata": {},
   "source": [
    "## The returned result ##"
   ]
  },
  {
   "cell_type": "code",
   "execution_count": 5,
   "metadata": {},
   "outputs": [],
   "source": [
    "\n",
    "def execute_query(query_to_execute): \n",
    "    sparql = SPARQLWrapper(\"https://api.triplydb.com/datasets/DBpedia-association/dbpedia/services/dbpedia/sparql\")\n",
    "    sparql.setQuery(query_to_execute)\n",
    "    sparql.setReturnFormat(JSON)\n",
    "    results = sparql.query().convert()  \n",
    "\n",
    "    index = results['head']['vars']\n",
    "\n",
    "    result_list = []\n",
    "    ind_reslut = []\n",
    "\n",
    "\n",
    "    for y in index:\n",
    "        for x in results['results']['bindings']:\n",
    "            ind_reslut.append(x[y]['value'])\n",
    "        result_list.append(ind_reslut)\n",
    "        ind_reslut = []\n",
    "\n",
    "    print(result_list)\n",
    "\n",
    "\n"
   ]
  },
  {
   "attachments": {},
   "cell_type": "markdown",
   "metadata": {},
   "source": [
    "\n",
    "\n",
    "## Node forward (Left Insertion) \n"
   ]
  },
  {
   "cell_type": "code",
   "execution_count": 10,
   "metadata": {},
   "outputs": [],
   "source": [
    "node_forward = \"\"\"\n",
    "        \n",
    "PREFIX dbp: <http://dbpedia.org/resource/>\n",
    "PREFIX dbo: <http://dbpedia.org/ontology/>\n",
    "\n",
    "SELECT ?p ?place ?x  ?y?a ?b\n",
    "WHERE {\n",
    "    dbp:Albert_Einstein ?p ?place .\n",
    "  \t?place ?x ?y.\n",
    "  \t?y ?a ?b.\n",
    "}\n",
    "LIMIT 10\n",
    "\n",
    "\n",
    "\"\"\"\n",
    "\n",
    "\n",
    "def left_insertion(cost):\n",
    "    aprrox_t = triples_to_query[0].get_approx()\n",
    "    aprrox_t[-1] = Triple(aprrox_t[-1].get_subject(), f\"?p{cost}\", f\"?o{cost}\")\n",
    "    aprrox_t.append(Triple(aprrox_t[-1].get_object(), triples_to_query[0].get_predicate(), triples_to_query[0].get_object()))\n",
    "    triples_to_query[0].update_approx(aprrox_t)\n",
    "    \n",
    "# \n",
    "\n",
    "\n",
    "\n"
   ]
  },
  {
   "attachments": {},
   "cell_type": "markdown",
   "metadata": {},
   "source": [
    "\n",
    "\n",
    "## Node Backward (Right Insertion) \n"
   ]
  },
  {
   "cell_type": "code",
   "execution_count": 9,
   "metadata": {},
   "outputs": [],
   "source": [
    "node_backward = \"\"\"\n",
    "\n",
    "PREFIX dbr: <http://dbpedia.org/resource/>\n",
    "PREFIX dbp: <http://dbpedia.org/resource/>\n",
    "PREFIX dbo: <http://dbpedia.org/ontology/>\n",
    "\n",
    "\n",
    "SELECT *\n",
    "WHERE {\n",
    "  ?a ?b ?z.\n",
    "  ?z ?p ?x. #this should be replaced with the returned results ?\n",
    "  ?x ?y dbp:Albert_Einstein.\n",
    "    dbp:Albert_Einstein ?place dbr:German_Empire .\n",
    "}\n",
    "\n",
    "limit 20\n",
    "\"\"\"\n",
    "\n",
    "def right_insertion(cost):\n",
    "    aprrox_t = triples_to_query[0].get_approx()\n",
    "    aprrox_t[-1] = Triple(aprrox_t[-1].get_subject(), aprrox_t[-1].get_predicate(), f\"?o{cost}\")\n",
    "    aprrox_t.append(Triple(aprrox_t[-1].get_object(), f\"p{cost}\", triples_to_query[0].get_object()))\n",
    "    triples_to_query[0].update_approx(aprrox_t)\n",
    "    # cost += 1\n",
    "    # print_new_query(cost)\n",
    "\n",
    "\n",
    "# node_backward(1)\n",
    "# for t in triples_to_query[0].get_approx():\n",
    "#     print(\"sub \" + t.get_subject())\n",
    "#     print(\"pre \" + t.get_predicate())\n",
    "#     print(\"obj \" + t.get_object())\n",
    "# print('------------------')\n",
    "\n",
    "  "
   ]
  },
  {
   "attachments": {},
   "cell_type": "markdown",
   "metadata": {},
   "source": [
    "## Substitution ##"
   ]
  },
  {
   "cell_type": "code",
   "execution_count": 11,
   "metadata": {},
   "outputs": [
    {
     "name": "stdout",
     "output_type": "stream",
     "text": [
      "sub <http://dbpedia.org/resource/Albert_Einstein>\n",
      "pre ?p1\n",
      "obj ?place\n",
      "------------------\n"
     ]
    }
   ],
   "source": [
    "sub = \"\"\"\n",
    "\n",
    "PREFIX dbr: <http://dbpedia.org/resource/>\n",
    "PREFIX dbp: <http://dbpedia.org/resource/>\n",
    "PREFIX dbo: <http://dbpedia.org/ontology/>\n",
    "\n",
    "#SELECT ?p ?place\n",
    "#WHERE {\n",
    "#    dbp:Albert_Einstein dbp:birthplace dbr:German_Empire .\n",
    "#}\n",
    "#\n",
    "SELECT ?p ?place\n",
    "WHERE {\n",
    "    dbp:Albert_Einstein ?p ?place .\n",
    "}\n",
    "LIMIT 10\n",
    "\"\"\"\n",
    "\n",
    "def sub(cost):\n",
    "    approx_t = triples_to_query[0].get_approx()\n",
    "    approx_t[-1] = Triple(approx_t[-1].get_subject(), f\"?p{cost}\", approx_t[-1].get_object())\n",
    "    triples_to_query[0].update_approx(approx_t)\n",
    "    \n",
    "# sub(1)\n",
    "# for t in triples_to_query[0].get_approx():\n",
    "#     print(\"sub \" + t.get_subject())\n",
    "#     print(\"pre \" + t.get_predicate())\n",
    "#     print(\"obj \" + t.get_object())\n",
    "# print('------------------')\n",
    "# query_to_execute = sub"
   ]
  },
  {
   "attachments": {},
   "cell_type": "markdown",
   "metadata": {},
   "source": [
    "## Printer of the list ##"
   ]
  },
  {
   "cell_type": "code",
   "execution_count": null,
   "metadata": {},
   "outputs": [],
   "source": [
    "# def print_my_list(l1list):\n",
    "#     for l1 in zip(l1list):\n",
    "#         for l2 in l1:\n",
    "#             print(l2)\n",
    "#         print()\n",
    "#         # print(l1,l2)\n",
    "#         print('------------------')"
   ]
  },
  {
   "cell_type": "code",
   "execution_count": 13,
   "metadata": {},
   "outputs": [],
   "source": [
    "def wr_my_list(l1list):\n",
    "    file_path = 'test.txt'\n",
    "    with open(file_path, 'w') as file:\n",
    "        \n",
    "        for l1 in zip(*l1list):\n",
    "            for l2 in l1:\n",
    "                file.write(str(l2) + \"   \" )\n",
    "            file.write('\\n ------------------ \\n')\n"
   ]
  },
  {
   "attachments": {},
   "cell_type": "markdown",
   "metadata": {},
   "source": [
    "## -------------------------------------------------------------------------------------------------------------------------------------- ##"
   ]
  },
  {
   "attachments": {},
   "cell_type": "markdown",
   "metadata": {},
   "source": [
    "## question ##\n",
    " 1. every estimation we create two new variables , what do we do with them so if we start with og we keep going ?\n",
    " 2. should the returned value from the approx be subed in the variables and only have one set of variables ?\n",
    "  2. Like if we get 10 values from a sub should we place them in the estimation and then query a node forward/back/sub for each ?"
   ]
  },
  {
   "cell_type": "code",
   "execution_count": null,
   "metadata": {},
   "outputs": [
    {
     "name": "stdout",
     "output_type": "stream",
     "text": [
      "dict_keys(['head', 'results'])\n",
      "False\n"
     ]
    }
   ],
   "source": [
    "def answer_convert(item_answer):\n",
    "    if 'boolean' in item_answer.keys():\n",
    "        at = 'boolean'\n",
    "    else:\n",
    "        at = item_answer['head']['vars'][0]\n",
    "    answer = []\n",
    "    if at == 'boolean':\n",
    "        answer.append(item_answer['boolean'])\n",
    "    else:\n",
    "        for cand in item_answer['results']['bindings']:\n",
    "            if at == 'date':\n",
    "                answer.append(cand['date']['value'])\n",
    "            elif at == 'number':\n",
    "                answer.append(cand['c']['value'])\n",
    "            elif at == 'resource' or at == 'uri':\n",
    "                answer.append(cand['uri']['value'])\n",
    "            elif at == 'string':\n",
    "                answer.append(cand['string']['value'])\n",
    "            elif at == 'callret-0':\n",
    "                answer.append(cand['callret-0']['value'])\n",
    "            else: \n",
    "                answer.append(cand[at]['value'])\n",
    "    return answer\n",
    "\n",
    "\n",
    "sparql = SPARQLWrapper(\n",
    "    \"https://api.triplydb.com/datasets/academy/pokemon/services/pokemon/sparql\")\n",
    "sparql.setQuery(sparql_query)\n",
    "sparql.setReturnFormat(JSON)\n",
    "results = sparql.query().convert()  \n",
    "answer = answer_convert(results)\n",
    "\n",
    "type(results.items())\n",
    "\n",
    "print(results.keys())\n",
    "print('boolean' in results.keys())\n"
   ]
  },
  {
   "cell_type": "code",
   "execution_count": 11,
   "metadata": {},
   "outputs": [
    {
     "name": "stdout",
     "output_type": "stream",
     "text": [
      "sub <http://dbpedia.org/resource/Albert_Einstein>\n",
      "pre <http://dbpedia.org/ontology/birthPlace>\n",
      "obj ?o1\n",
      "sub ?o1\n",
      "pre ?p1\n",
      "obj ?o1\n",
      "sub ?o1\n",
      "pre <http://dbpedia.org/ontology/birthPlace>\n",
      "obj ?place\n",
      "------------------\n"
     ]
    }
   ],
   "source": [
    "left_insertion(1)\n",
    "for t in triples_to_query[0].get_approx():\n",
    "    print(\"sub \" + t.get_subject())\n",
    "    print(\"pre \" + t.get_predicate())\n",
    "    print(\"obj \" + t.get_object())\n",
    "print('------------------')"
   ]
  }
 ],
 "metadata": {
  "kernelspec": {
   "display_name": "Python 3",
   "language": "python",
   "name": "python3"
  },
  "language_info": {
   "codemirror_mode": {
    "name": "ipython",
    "version": 3
   },
   "file_extension": ".py",
   "mimetype": "text/x-python",
   "name": "python",
   "nbconvert_exporter": "python",
   "pygments_lexer": "ipython3",
   "version": "3.8.10"
  },
  "orig_nbformat": 4,
  "vscode": {
   "interpreter": {
    "hash": "916dbcbb3f70747c44a77c7bcd40155683ae19c65e1c03b4aa3499c5328201f1"
   }
  }
 },
 "nbformat": 4,
 "nbformat_minor": 2
}
